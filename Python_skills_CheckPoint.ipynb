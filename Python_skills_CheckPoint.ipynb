{
  "nbformat": 4,
  "nbformat_minor": 0,
  "metadata": {
    "colab": {
      "name": "Python skills CheckPoint.ipynb",
      "provenance": []
    },
    "kernelspec": {
      "name": "python3",
      "display_name": "Python 3"
    }
  },
  "cells": [
    {
      "cell_type": "markdown",
      "metadata": {
        "id": "o31WZeKsokMF"
      },
      "source": [
        "# ***Soltution Question 1***"
      ]
    },
    {
      "cell_type": "code",
      "metadata": {
        "id": "i2RblosQoPtb",
        "colab": {
          "base_uri": "https://localhost:8080/"
        },
        "outputId": "b3205d92-60b9-44c7-909b-b5fea8ff70a1"
      },
      "source": [
        "div = []\r\n",
        "for i in range(2000,3201):\r\n",
        "    if i % 7 == 0 and i % 5 != 0:\r\n",
        "        #print (i)\r\n",
        "        div.append(i)\r\n",
        "      \r\n",
        "print(div)\r\n",
        "print(type(div))\r\n",
        "       "
      ],
      "execution_count": 41,
      "outputs": [
        {
          "output_type": "stream",
          "text": [
            "[2002, 2009, 2016, 2023, 2037, 2044, 2051, 2058, 2072, 2079, 2086, 2093, 2107, 2114, 2121, 2128, 2142, 2149, 2156, 2163, 2177, 2184, 2191, 2198, 2212, 2219, 2226, 2233, 2247, 2254, 2261, 2268, 2282, 2289, 2296, 2303, 2317, 2324, 2331, 2338, 2352, 2359, 2366, 2373, 2387, 2394, 2401, 2408, 2422, 2429, 2436, 2443, 2457, 2464, 2471, 2478, 2492, 2499, 2506, 2513, 2527, 2534, 2541, 2548, 2562, 2569, 2576, 2583, 2597, 2604, 2611, 2618, 2632, 2639, 2646, 2653, 2667, 2674, 2681, 2688, 2702, 2709, 2716, 2723, 2737, 2744, 2751, 2758, 2772, 2779, 2786, 2793, 2807, 2814, 2821, 2828, 2842, 2849, 2856, 2863, 2877, 2884, 2891, 2898, 2912, 2919, 2926, 2933, 2947, 2954, 2961, 2968, 2982, 2989, 2996, 3003, 3017, 3024, 3031, 3038, 3052, 3059, 3066, 3073, 3087, 3094, 3101, 3108, 3122, 3129, 3136, 3143, 3157, 3164, 3171, 3178, 3192, 3199]\n",
            "<class 'list'>\n"
          ],
          "name": "stdout"
        }
      ]
    },
    {
      "cell_type": "markdown",
      "metadata": {
        "id": "ZdUtiGJ9uiRs"
      },
      "source": [
        "# ***Solution Question 2***"
      ]
    },
    {
      "cell_type": "markdown",
      "metadata": {
        "id": "fKXQj1r6rm6h"
      },
      "source": [
        "* ***Méthode 01:***\r\n",
        "\r\n",
        "\r\n",
        "\r\n"
      ]
    },
    {
      "cell_type": "code",
      "metadata": {
        "id": "PmK7aaHHqwAT",
        "colab": {
          "base_uri": "https://localhost:8080/"
        },
        "outputId": "bdc46a85-4269-48a1-ac4f-b55173dac44d"
      },
      "source": [
        "nb = int(input(\"Enter a Positive number : \"))\r\n",
        "f = 1\r\n",
        "\r\n",
        "if nb < 0 :\r\n",
        "    print(\"no factorial for negative number !\")\r\n",
        "else:\r\n",
        "    for i in range(1,nb+1):\r\n",
        "        f = f *i\r\n",
        "    print(\"Factorial of number:\",nb,\"= \",f)"
      ],
      "execution_count": 39,
      "outputs": [
        {
          "output_type": "stream",
          "text": [
            "Enter a Positive number : 5\n",
            "Factorial of number: 5 =  120\n"
          ],
          "name": "stdout"
        }
      ]
    },
    {
      "cell_type": "markdown",
      "metadata": {
        "id": "BOwgbTYxr2aY"
      },
      "source": [
        "* ***Méthode 02:***"
      ]
    },
    {
      "cell_type": "code",
      "metadata": {
        "colab": {
          "base_uri": "https://localhost:8080/"
        },
        "id": "3NRZ6Chto-1S",
        "outputId": "508c2388-a37a-4b2e-8a34-798007db19fb"
      },
      "source": [
        "# with def\r\n",
        "def factoriel(num):\r\n",
        "    if num == 1:\r\n",
        "        return 1\r\n",
        "    else:\r\n",
        "        return num * factoriel(num-1)\r\n",
        "value = int(input(\"enter positive number : \"))\r\n",
        "print(\"Factorial of number:\",value,\"= \",factoriel(value))"
      ],
      "execution_count": 9,
      "outputs": [
        {
          "output_type": "stream",
          "text": [
            "enter positive number : 4\n",
            "Factorial of number: 4 =  24\n"
          ],
          "name": "stdout"
        }
      ]
    },
    {
      "cell_type": "markdown",
      "metadata": {
        "id": "y4H8mq6Vr5Qs"
      },
      "source": [
        "* ***Méthode 03:***"
      ]
    },
    {
      "cell_type": "code",
      "metadata": {
        "colab": {
          "base_uri": "https://localhost:8080/"
        },
        "id": "nWn3CbpqqoEg",
        "outputId": "51958184-ca40-4c32-aebe-42aa4f07b734"
      },
      "source": [
        "# with math module\r\n",
        "from math import * \r\n",
        "nombre = int(input(\"Entrez un nombre positive : \"))\r\n",
        "if nombre < 0 :\r\n",
        "    print(\"no factorial for negative number !\")\r\n",
        "else:\r\n",
        "    fact = factorial(nombre)\r\n",
        "    print(\"Factoriel du nombre:\",nombre,\"= \",fact)\r\n"
      ],
      "execution_count": 12,
      "outputs": [
        {
          "output_type": "stream",
          "text": [
            "Entrez un nombre positive : 4\n",
            "Factoriel du nombre: 4 =  24\n"
          ],
          "name": "stdout"
        }
      ]
    },
    {
      "cell_type": "markdown",
      "metadata": {
        "id": "zs6qRth7ziXI"
      },
      "source": [
        "# ***Solution Question 3***"
      ]
    },
    {
      "cell_type": "code",
      "metadata": {
        "id": "zyQXRvywvbHr",
        "colab": {
          "base_uri": "https://localhost:8080/"
        },
        "outputId": "722f4f20-d497-4a9a-b89b-9291a194d613"
      },
      "source": [
        "#the output should be: {1: 1, 2: 4, 3: 9, 4: 16, 5: 25, 6: 36, 7: 49, 8: 64}  \r\n",
        "dict1 = {}\r\n",
        "n = int(input(\"Enter an integer number : \"))\r\n",
        "for i in range(1, n+1):\r\n",
        "    dict1.update({i:i*i}) \r\n",
        "print(dict1)"
      ],
      "execution_count": 37,
      "outputs": [
        {
          "output_type": "stream",
          "text": [
            "Enter an integer number : 8\n",
            "{1: 1, 2: 4, 3: 9, 4: 16, 5: 25, 6: 36, 7: 49, 8: 64}\n"
          ],
          "name": "stdout"
        }
      ]
    },
    {
      "cell_type": "markdown",
      "metadata": {
        "id": "NZStjjue21sB"
      },
      "source": [
        "# ***Solution Question 4***"
      ]
    },
    {
      "cell_type": "markdown",
      "metadata": {
        "id": "8MSX2OXIsOAd"
      },
      "source": [
        "* ***Méthode 01:***"
      ]
    },
    {
      "cell_type": "code",
      "metadata": {
        "id": "1DOFXMz00cVz",
        "colab": {
          "base_uri": "https://localhost:8080/"
        },
        "outputId": "aafbe9fa-54d3-458e-bc57-866d6ea2f18f"
      },
      "source": [
        "# with input & without def\r\n",
        "mystr = input(\"Enter the word : \")\r\n",
        "n = int(input(\"Enter the index : \"))\r\n",
        "if len(mystr) > n:\r\n",
        "    new_str = mystr[0:n:] + mystr[n+1::]\r\n",
        "    print(f\"missing_char('{mystr}',{n}) → '{new_str}'\")\r\n",
        "else:\r\n",
        "    print(\"invalid index\")\r\n",
        "\r\n"
      ],
      "execution_count": 35,
      "outputs": [
        {
          "output_type": "stream",
          "text": [
            "Enter the word : kitten\n",
            "Enter the index : 4\n",
            "missing_char('kitten',4) → 'kittn'\n"
          ],
          "name": "stdout"
        }
      ]
    },
    {
      "cell_type": "markdown",
      "metadata": {
        "id": "N38dmJDmsQiJ"
      },
      "source": [
        "* ***Méthode 02:***"
      ]
    },
    {
      "cell_type": "code",
      "metadata": {
        "id": "aO5jmmlmCEiQ",
        "colab": {
          "base_uri": "https://localhost:8080/"
        },
        "outputId": "5b083020-e83c-47a9-8c98-c82420c2e32d"
      },
      "source": [
        "# with def\r\n",
        "def missing_char(mot, indx):\r\n",
        "    if len(mot) > indx:\r\n",
        "        mot = mot[0 : indx : ] + mot[indx + 1 : :]\r\n",
        "        return mot\r\n",
        "    else:\r\n",
        "        return \"invalid index\"\r\n",
        "\r\n",
        "print(missing_char('kitten', 1)) \r\n",
        "print(missing_char('kitten', 0)) \r\n",
        "print(missing_char('kitten', 4)) "
      ],
      "execution_count": 34,
      "outputs": [
        {
          "output_type": "stream",
          "text": [
            "ktten\n",
            "itten\n",
            "kittn\n"
          ],
          "name": "stdout"
        }
      ]
    },
    {
      "cell_type": "markdown",
      "metadata": {
        "id": "wagb6ZrNFUT9"
      },
      "source": [
        "# ***Solution Question 5***"
      ]
    },
    {
      "cell_type": "code",
      "metadata": {
        "colab": {
          "base_uri": "https://localhost:8080/"
        },
        "id": "xSEqUjQmFLO-",
        "outputId": "08bf6bbe-090d-4557-bea7-30c5c8410e46"
      },
      "source": [
        "#Original array elements: [[0 1] [2 3] [4 5]] \r\n",
        "#Array to list: [[0, 1], [2, 3], [4, 5]] \r\n",
        "\r\n",
        "import numpy as np\r\n",
        "origin = np.array([[0,1], [2,3], [4,5]])\r\n",
        "myList = origin.tolist()\r\n",
        "myList\r\n",
        "print(\"origin type is = \", type(origin))\r\n",
        "print(\"myList type is = \", type(myList))"
      ],
      "execution_count": null,
      "outputs": [
        {
          "output_type": "stream",
          "text": [
            "origin type is =  <class 'numpy.ndarray'>\n",
            "myList type is =  <class 'list'>\n"
          ],
          "name": "stdout"
        }
      ]
    },
    {
      "cell_type": "markdown",
      "metadata": {
        "id": "K_DAJWV_IMoF"
      },
      "source": [
        "# ***Solution Question 6***"
      ]
    },
    {
      "cell_type": "code",
      "metadata": {
        "colab": {
          "base_uri": "https://localhost:8080/"
        },
        "id": "BrNhec6_GPju",
        "outputId": "0e796a7a-0f2a-4771-f247-d19fb60a769d"
      },
      "source": [
        "#Original array1: [0 1 2] \r\n",
        "\r\n",
        "#Original array2: [2 1 0] \r\n",
        "import numpy as np\r\n",
        "array1 = np.array([[0, 1, 2]])\r\n",
        "array1\r\n",
        "array2 = np.array([[2, 1, 0]])\r\n",
        "\r\n",
        "covariance = np.cov(array1, array2)\r\n",
        "print(covariance)"
      ],
      "execution_count": null,
      "outputs": [
        {
          "output_type": "stream",
          "text": [
            "[[ 1. -1.]\n",
            " [-1.  1.]]\n"
          ],
          "name": "stdout"
        }
      ]
    },
    {
      "cell_type": "markdown",
      "metadata": {
        "id": "s4CLUhtIIX2E"
      },
      "source": [
        "# ***Solution Question 7***"
      ]
    },
    {
      "cell_type": "code",
      "metadata": {
        "id": "cY-mptQzHn11",
        "colab": {
          "base_uri": "https://localhost:8080/"
        },
        "outputId": "4e7b1ef2-1d5a-4ecd-8667-1e709553537c"
      },
      "source": [
        "from math import *\r\n",
        "# Q = Square root of [(2 * C * D)/H] \r\n",
        "C = 50\r\n",
        "H = 30\r\n",
        "D = input(\"Enter numbers C,D,H (with comma separated) : \" )\r\n",
        "valeurs = []\r\n",
        "i = [x for x in D.split(\",\")]\r\n",
        "for item in i:\r\n",
        "    q = str(int(round(sqrt((2*C*float(item))/H))))\r\n",
        "    valeurs.append(q)\r\n",
        "\r\n",
        "\r\n",
        "\r\n",
        "print(f\"Square root of [(2 * C * D)/H] =\",','.join(valeurs))\r\n"
      ],
      "execution_count": 33,
      "outputs": [
        {
          "output_type": "stream",
          "text": [
            "Enter numbers C,D,H (with comma separated) : 100,150,180 \n",
            "Square root of [(2 * C * D)/H] = 18,22,24\n"
          ],
          "name": "stdout"
        }
      ]
    }
  ]
}